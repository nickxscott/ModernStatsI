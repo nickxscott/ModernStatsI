{
 "cells": [
  {
   "cell_type": "code",
   "execution_count": 2,
   "id": "d6b5eb70-e887-4084-aef8-e1edbf0a062f",
   "metadata": {},
   "outputs": [],
   "source": [
    "import pandas as pd\n",
    "import numpy as np\n",
    "import seaborn as sns\n",
    "import requests\n",
    "import random"
   ]
  },
  {
   "cell_type": "code",
   "execution_count": 4,
   "id": "3417722d-2804-4394-ac12-9dc612d1d575",
   "metadata": {},
   "outputs": [
    {
     "name": "stdout",
     "output_type": "stream",
     "text": [
      "done\n"
     ]
    }
   ],
   "source": [
    "#get raw data from nyc open data\n",
    "lecture_data='../week_2/311_download.csv'\n",
    "homework_data='../week_2/311_download_hw.csv'\n",
    "df_dl=pd.read_csv(homework_data)\n",
    "#update column names to lowercase and no spaces\n",
    "df_dl.columns=[x.lower().replace(' ','_') for x in df_dl.columns]\n",
    "#export to excel file with only needed columns for class\n",
    "df_dl[['unique_key','created_date','agency','agency_name','complaint_type','descriptor','borough']].to_excel('../week_2/311_061625_062325.xlsx',index=False)\n",
    "print('done')"
   ]
  },
  {
   "cell_type": "markdown",
   "id": "3c473738-4548-404e-8435-b7afa6db4713",
   "metadata": {},
   "source": [
    "# Homework"
   ]
  },
  {
   "cell_type": "code",
   "execution_count": 10,
   "id": "22b8e1a8-cdf4-4ab8-835f-cb53b30d5fdf",
   "metadata": {},
   "outputs": [],
   "source": [
    "df=df_dl[['unique_key','created_date','agency','agency_name','complaint_type','descriptor','borough']]"
   ]
  },
  {
   "cell_type": "markdown",
   "id": "18b18848-b3fe-4b37-a6f9-caeb0387f008",
   "metadata": {},
   "source": [
    "## 1) What % of all reports came from Staten Island? "
   ]
  },
  {
   "cell_type": "code",
   "execution_count": 13,
   "id": "cbdf79a8-98a9-448b-875a-53b74654e360",
   "metadata": {},
   "outputs": [
    {
     "name": "stdout",
     "output_type": "stream",
     "text": [
      "2141 / 47255 = 4.53 %\n"
     ]
    }
   ],
   "source": [
    "si=len(df.loc[df.borough=='STATEN ISLAND'])\n",
    "all_b=len(df)\n",
    "print(si,'/',all_b,'=',round((si/all_b)*100,2),'%')"
   ]
  },
  {
   "cell_type": "markdown",
   "id": "dd3eb872-b5af-47ac-950c-1703b49b33c0",
   "metadata": {},
   "source": [
    "## 2) What % of all reports were for the Department of Transportation?"
   ]
  },
  {
   "cell_type": "code",
   "execution_count": 15,
   "id": "656cdee4-b51e-4541-b5bb-872c73439098",
   "metadata": {},
   "outputs": [
    {
     "name": "stdout",
     "output_type": "stream",
     "text": [
      "3717 / 47255 = 7.87 %\n"
     ]
    }
   ],
   "source": [
    "dot=len(df.loc[df.agency_name=='Department of Transportation'])\n",
    "all_c=len(df)\n",
    "print(dot,'/',all_c,'=',round((dot/all_c)*100,2),'%')"
   ]
  },
  {
   "cell_type": "markdown",
   "id": "a24c6d40-3156-4d06-8924-98db9e92d8d5",
   "metadata": {},
   "source": [
    "## 3) What % of reports from Manhattan were for the NYPD?"
   ]
  },
  {
   "cell_type": "code",
   "execution_count": 18,
   "id": "52488906-6ffc-4a20-9b42-9118d72ba9da",
   "metadata": {},
   "outputs": [
    {
     "name": "stdout",
     "output_type": "stream",
     "text": [
      "4939 / 9517 = 51.9 %\n"
     ]
    }
   ],
   "source": [
    "man_nypd=len(df.loc[(df.borough=='MANHATTAN')&(df.agency_name=='New York City Police Department')])\n",
    "man=len(df.loc[df.borough=='MANHATTAN'])\n",
    "print(man_nypd,'/',man,'=',round((man_nypd/man)*100,2),'%')"
   ]
  },
  {
   "cell_type": "markdown",
   "id": "307f5126-040b-4b80-8e37-cc3ca95aa4ae",
   "metadata": {
    "tags": []
   },
   "source": [
    "# Sample Data for Frequency Table "
   ]
  },
  {
   "cell_type": "code",
   "execution_count": 10,
   "id": "99cc73dd-2d19-4015-be53-596594e9b47b",
   "metadata": {},
   "outputs": [
    {
     "data": {
      "text/plain": [
       "5"
      ]
     },
     "execution_count": 10,
     "metadata": {},
     "output_type": "execute_result"
    }
   ],
   "source": [
    "random.randint(1, 4)"
   ]
  },
  {
   "cell_type": "code",
   "execution_count": 17,
   "id": "42580333-9c20-45c4-a490-1c3c55d59a0a",
   "metadata": {},
   "outputs": [
    {
     "data": {
      "text/html": [
       "<div>\n",
       "<style scoped>\n",
       "    .dataframe tbody tr th:only-of-type {\n",
       "        vertical-align: middle;\n",
       "    }\n",
       "\n",
       "    .dataframe tbody tr th {\n",
       "        vertical-align: top;\n",
       "    }\n",
       "\n",
       "    .dataframe thead th {\n",
       "        text-align: right;\n",
       "    }\n",
       "</style>\n",
       "<table border=\"1\" class=\"dataframe\">\n",
       "  <thead>\n",
       "    <tr style=\"text-align: right;\">\n",
       "      <th></th>\n",
       "      <th>transactionID</th>\n",
       "      <th>itemName</th>\n",
       "    </tr>\n",
       "  </thead>\n",
       "  <tbody>\n",
       "    <tr>\n",
       "      <th>0</th>\n",
       "      <td>t1</td>\n",
       "      <td>laptop</td>\n",
       "    </tr>\n",
       "    <tr>\n",
       "      <th>1</th>\n",
       "      <td>t2</td>\n",
       "      <td>laptop</td>\n",
       "    </tr>\n",
       "    <tr>\n",
       "      <th>2</th>\n",
       "      <td>t3</td>\n",
       "      <td>laptop</td>\n",
       "    </tr>\n",
       "    <tr>\n",
       "      <th>3</th>\n",
       "      <td>t4</td>\n",
       "      <td>mouse</td>\n",
       "    </tr>\n",
       "    <tr>\n",
       "      <th>4</th>\n",
       "      <td>t5</td>\n",
       "      <td>mouse</td>\n",
       "    </tr>\n",
       "    <tr>\n",
       "      <th>5</th>\n",
       "      <td>t6</td>\n",
       "      <td>mouse</td>\n",
       "    </tr>\n",
       "    <tr>\n",
       "      <th>6</th>\n",
       "      <td>t7</td>\n",
       "      <td>mouse</td>\n",
       "    </tr>\n",
       "    <tr>\n",
       "      <th>7</th>\n",
       "      <td>t8</td>\n",
       "      <td>keyboard</td>\n",
       "    </tr>\n",
       "    <tr>\n",
       "      <th>8</th>\n",
       "      <td>t9</td>\n",
       "      <td>keyboard</td>\n",
       "    </tr>\n",
       "    <tr>\n",
       "      <th>9</th>\n",
       "      <td>t10</td>\n",
       "      <td>keyboard</td>\n",
       "    </tr>\n",
       "    <tr>\n",
       "      <th>10</th>\n",
       "      <td>t11</td>\n",
       "      <td>keyboard</td>\n",
       "    </tr>\n",
       "  </tbody>\n",
       "</table>\n",
       "</div>"
      ],
      "text/plain": [
       "   transactionID  itemName\n",
       "0             t1    laptop\n",
       "1             t2    laptop\n",
       "2             t3    laptop\n",
       "3             t4     mouse\n",
       "4             t5     mouse\n",
       "5             t6     mouse\n",
       "6             t7     mouse\n",
       "7             t8  keyboard\n",
       "8             t9  keyboard\n",
       "9            t10  keyboard\n",
       "10           t11  keyboard"
      ]
     },
     "execution_count": 17,
     "metadata": {},
     "output_type": "execute_result"
    }
   ],
   "source": [
    "df_freq=pd.DataFrame(columns=['transactionID', 'itemName'])\n",
    "\n",
    "items=['laptop', 'mouse', 'keyboard']\n",
    "count=1\n",
    "for item in items:\n",
    "    freq=random.randint(1, 4)\n",
    "    trans=[item]*freq\n",
    "    for t in trans:\n",
    "        df_freq.loc[len(df_freq)]=['t'+str(count), t]\n",
    "        count+=1\n",
    "df_freq"
   ]
  },
  {
   "cell_type": "code",
   "execution_count": 19,
   "id": "284975f4-4c2a-4eef-822c-f80852b5d8e1",
   "metadata": {},
   "outputs": [
    {
     "data": {
      "text/html": [
       "<div>\n",
       "<style scoped>\n",
       "    .dataframe tbody tr th:only-of-type {\n",
       "        vertical-align: middle;\n",
       "    }\n",
       "\n",
       "    .dataframe tbody tr th {\n",
       "        vertical-align: top;\n",
       "    }\n",
       "\n",
       "    .dataframe thead th {\n",
       "        text-align: right;\n",
       "    }\n",
       "</style>\n",
       "<table border=\"1\" class=\"dataframe\">\n",
       "  <thead>\n",
       "    <tr style=\"text-align: right;\">\n",
       "      <th></th>\n",
       "      <th>itemName</th>\n",
       "      <th>count</th>\n",
       "    </tr>\n",
       "  </thead>\n",
       "  <tbody>\n",
       "    <tr>\n",
       "      <th>0</th>\n",
       "      <td>keyboard</td>\n",
       "      <td>4</td>\n",
       "    </tr>\n",
       "    <tr>\n",
       "      <th>1</th>\n",
       "      <td>laptop</td>\n",
       "      <td>3</td>\n",
       "    </tr>\n",
       "    <tr>\n",
       "      <th>2</th>\n",
       "      <td>mouse</td>\n",
       "      <td>4</td>\n",
       "    </tr>\n",
       "  </tbody>\n",
       "</table>\n",
       "</div>"
      ],
      "text/plain": [
       "   itemName  count\n",
       "0  keyboard      4\n",
       "1    laptop      3\n",
       "2     mouse      4"
      ]
     },
     "execution_count": 19,
     "metadata": {},
     "output_type": "execute_result"
    }
   ],
   "source": [
    "df_freq.groupby(['itemName']).itemName.count().reset_index(name='count')"
   ]
  },
  {
   "cell_type": "code",
   "execution_count": null,
   "id": "7b2f2673-afc7-4630-9d94-2d33d4966dc3",
   "metadata": {},
   "outputs": [],
   "source": []
  }
 ],
 "metadata": {
  "kernelspec": {
   "display_name": "Python 3 (ipykernel)",
   "language": "python",
   "name": "python3"
  },
  "language_info": {
   "codemirror_mode": {
    "name": "ipython",
    "version": 3
   },
   "file_extension": ".py",
   "mimetype": "text/x-python",
   "name": "python",
   "nbconvert_exporter": "python",
   "pygments_lexer": "ipython3",
   "version": "3.9.13"
  }
 },
 "nbformat": 4,
 "nbformat_minor": 5
}
