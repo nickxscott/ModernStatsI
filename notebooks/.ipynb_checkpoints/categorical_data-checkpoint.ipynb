{
 "cells": [
  {
   "cell_type": "code",
   "execution_count": 30,
   "id": "d6b5eb70-e887-4084-aef8-e1edbf0a062f",
   "metadata": {},
   "outputs": [],
   "source": [
    "import pandas as pd\n",
    "import numpy as np\n",
    "import seaborn as sns\n",
    "import requests"
   ]
  },
  {
   "cell_type": "code",
   "execution_count": 32,
   "id": "3417722d-2804-4394-ac12-9dc612d1d575",
   "metadata": {},
   "outputs": [
    {
     "name": "stdout",
     "output_type": "stream",
     "text": [
      "done\n"
     ]
    }
   ],
   "source": [
    "#get raw data from nyc open data\n",
    "df_dl=pd.read_csv('../week_2/311_download.csv')\n",
    "#update column names to lowercase and no spaces\n",
    "df_dl.columns=[x.lower().replace(' ','_') for x in df.columns]\n",
    "#export to excel file with only needed columns for class\n",
    "df_dl[['unique_key','created_date','agency','agency_name','complaint_type','descriptor','borough']].to_excel('../week_2/311_060125_061225.xlsx',index=False)\n",
    "print('done')"
   ]
  },
  {
   "cell_type": "code",
   "execution_count": 34,
   "id": "e6506ed2-0e80-4384-8eae-a2cdc84849c3",
   "metadata": {},
   "outputs": [
    {
     "data": {
      "text/plain": [
       "agency_name\n",
       "Department of Buildings                                2855\n",
       "Department of Consumer and Worker Protection            539\n",
       "Department of Education                                  27\n",
       "Department of Environmental Protection                 4671\n",
       "Department of Health and Mental Hygiene                2795\n",
       "Department of Homeless Services                        1949\n",
       "Department of Housing Preservation and Development    13152\n",
       "Department of Parks and Recreation                     4333\n",
       "Department of Sanitation                               9917\n",
       "Department of Transportation                           6203\n",
       "Economic Development Corporation                        610\n",
       "New York City Police Department                       47924\n",
       "Office of Technology and Innovation                       3\n",
       "Taxi and Limousine Commission                           876\n",
       "Name: agency_name, dtype: int64"
      ]
     },
     "execution_count": 34,
     "metadata": {},
     "output_type": "execute_result"
    }
   ],
   "source": [
    "df_dl.groupby(['agency_name']).agency_name.count()"
   ]
  },
  {
   "cell_type": "code",
   "execution_count": 43,
   "id": "c455706e-5e15-4c4e-b51a-4740f7a1e836",
   "metadata": {},
   "outputs": [
    {
     "data": {
      "text/plain": [
       "Index(['unique_key', 'created_date', 'closed_date', 'agency', 'agency_name',\n",
       "       'complaint_type', 'descriptor', 'location_type', 'incident_zip',\n",
       "       'incident_address', 'street_name', 'cross_street_1', 'cross_street_2',\n",
       "       'intersection_street_1', 'intersection_street_2', 'address_type',\n",
       "       'city', 'landmark', 'facility_type', 'status', 'due_date',\n",
       "       'resolution_description', 'resolution_action_updated_date',\n",
       "       'community_board', 'bbl', 'borough', 'x_coordinate_(state_plane)',\n",
       "       'y_coordinate_(state_plane)', 'open_data_channel_type',\n",
       "       'park_facility_name', 'park_borough', 'vehicle_type',\n",
       "       'taxi_company_borough', 'taxi_pick_up_location', 'bridge_highway_name',\n",
       "       'bridge_highway_direction', 'road_ramp', 'bridge_highway_segment',\n",
       "       'latitude', 'longitude', 'location'],\n",
       "      dtype='object')"
      ]
     },
     "execution_count": 43,
     "metadata": {},
     "output_type": "execute_result"
    }
   ],
   "source": [
    "df_dl.columns"
   ]
  },
  {
   "cell_type": "code",
   "execution_count": 49,
   "id": "278c0e9d-1f02-4ed7-8400-7fbd1ad599a2",
   "metadata": {},
   "outputs": [
    {
     "data": {
      "text/plain": [
       "status\n",
       "Closed         23\n",
       "In Progress     8\n",
       "Open            8\n",
       "Name: unique_key, dtype: int64"
      ]
     },
     "execution_count": 49,
     "metadata": {},
     "output_type": "execute_result"
    }
   ],
   "source": [
    "df_dl.loc[(df_dl.agency=='DOT')&(df_dl.borough=='Unspecified')].groupby(['status']).unique_key.count()"
   ]
  },
  {
   "cell_type": "code",
   "execution_count": null,
   "id": "656cdee4-b51e-4541-b5bb-872c73439098",
   "metadata": {},
   "outputs": [],
   "source": []
  }
 ],
 "metadata": {
  "kernelspec": {
   "display_name": "Python 3 (ipykernel)",
   "language": "python",
   "name": "python3"
  },
  "language_info": {
   "codemirror_mode": {
    "name": "ipython",
    "version": 3
   },
   "file_extension": ".py",
   "mimetype": "text/x-python",
   "name": "python",
   "nbconvert_exporter": "python",
   "pygments_lexer": "ipython3",
   "version": "3.9.13"
  }
 },
 "nbformat": 4,
 "nbformat_minor": 5
}
